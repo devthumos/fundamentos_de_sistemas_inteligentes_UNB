{
  "nbformat": 4,
  "nbformat_minor": 0,
  "metadata": {
    "colab": {
      "provenance": [],
      "collapsed_sections": []
    },
    "kernelspec": {
      "name": "python3",
      "display_name": "Python 3"
    },
    "language_info": {
      "name": "python"
    }
  },
  "cells": [
    {
      "cell_type": "markdown",
      "source": [
        "# Aula 3 - 01/11/2022\n",
        "### Temas: \n",
        "- Componentes de aprendizagem supervisionada\n",
        "regressão por mínimos quadrados;\n",
        "  - Solução analítica fechada;\n",
        "  - Solução por gradiente descendente;\n",
        "- Métricas de desempenho;"
      ],
      "metadata": {
        "id": "WRjGkCJMwG5i"
      }
    },
    {
      "cell_type": "markdown",
      "source": [
        "### Componentes de aprendizagem supervisionada"
      ],
      "metadata": {
        "id": "hOwak-X8MRjN"
      }
    },
    {
      "cell_type": "markdown",
      "source": [
        "- **Entrada**\n",
        "  - X\n",
        "- **Saída**\n",
        "  - Y\n",
        "- **Função Alvo (Ideal)**\n",
        "  - f:X -> Y\n",
        "- **Dados**\n",
        "  - (x1, y1), (x2, y2), ... , (xN, yN)\n",
        "- **Hipótese**\n",
        "  - g: X -> Y"
      ],
      "metadata": {
        "id": "s-cocZJRNcMy"
      }
    },
    {
      "cell_type": "markdown",
      "source": [
        "#### Overfitting\n",
        "\n",
        "- O mais importante é que o sistema utilize os dados para treinar e que no futuro o modelo acerte a média próximo do que seria o ideal.\n",
        "\n",
        "- Se focou em acertar tanto os dados que tudo que aparecer em volta ele irá errar muito"
      ],
      "metadata": {
        "id": "w_mvytKcOKN2"
      }
    },
    {
      "cell_type": "markdown",
      "source": [
        "O problema do overfitting é não termos uma margem de folga para classificação ou regressão de valores."
      ],
      "metadata": {
        "id": "USNd9VaaOKWN"
      }
    },
    {
      "cell_type": "markdown",
      "source": [
        "Otimização"
      ],
      "metadata": {
        "id": "iwzjWhC_XQqW"
      }
    },
    {
      "cell_type": "markdown",
      "source": [
        "Conseguimos otimizar um modelo utilizando Solução analítica a partir da multiplicação de matrizes, porém o custo é muito grande e temos instabilidade numérica"
      ],
      "metadata": {
        "id": "KRJFAmcrTkEZ"
      }
    },
    {
      "cell_type": "markdown",
      "source": [
        "Treinamento"
      ],
      "metadata": {
        "id": "3Ypaj-S1bxkc"
      }
    },
    {
      "cell_type": "markdown",
      "source": [
        "O ideal de acodo com os seus dados, é quando a taxa de erro do teste não diminuir mais"
      ],
      "metadata": {
        "id": "EN6BOFfHXG0s"
      }
    },
    {
      "cell_type": "markdown",
      "source": [
        "Acúracia = (TP + TN)/(TP + FP + TN + FN)"
      ],
      "metadata": {
        "id": "GoWbfRP4d6LY"
      }
    },
    {
      "cell_type": "markdown",
      "source": [
        "Sensitivity = "
      ],
      "metadata": {
        "id": "pSRIoKOEemLJ"
      }
    },
    {
      "cell_type": "markdown",
      "source": [
        "Specificity = "
      ],
      "metadata": {
        "id": "BuZc4qNqeoKv"
      }
    },
    {
      "cell_type": "markdown",
      "source": [
        "Recall = "
      ],
      "metadata": {
        "id": "3FIL4jNAeEg3"
      }
    },
    {
      "cell_type": "markdown",
      "source": [
        "Precision = "
      ],
      "metadata": {
        "id": "_03xdwz4eG6w"
      }
    },
    {
      "cell_type": "markdown",
      "source": [
        "F1-Score = "
      ],
      "metadata": {
        "id": "2zzvDMgReH1m"
      }
    },
    {
      "cell_type": "markdown",
      "source": [
        "Curva ROC(Receiver Operating Characteristic)\n"
      ],
      "metadata": {
        "id": "vcocKOz-eJST"
      }
    },
    {
      "cell_type": "code",
      "source": [],
      "metadata": {
        "id": "oeMucczNf52h"
      },
      "execution_count": null,
      "outputs": []
    },
    {
      "cell_type": "markdown",
      "source": [
        "Realizar/Ler o que estiver no final do Slide"
      ],
      "metadata": {
        "id": "MQrwX_Pbf9kZ"
      }
    },
    {
      "cell_type": "code",
      "source": [],
      "metadata": {
        "id": "eqx87M8vgGze"
      },
      "execution_count": null,
      "outputs": []
    }
  ]
}