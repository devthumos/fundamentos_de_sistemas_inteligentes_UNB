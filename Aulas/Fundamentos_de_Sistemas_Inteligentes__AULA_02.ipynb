{
  "nbformat": 4,
  "nbformat_minor": 0,
  "metadata": {
    "colab": {
      "provenance": [],
      "collapsed_sections": []
    },
    "kernelspec": {
      "name": "python3",
      "display_name": "Python 3"
    },
    "language_info": {
      "name": "python"
    }
  },
  "cells": [
    {
      "cell_type": "markdown",
      "source": [
        "# Aula 02 - 27/10/2022"
      ],
      "metadata": {
        "id": "7puqbtPYdRG4"
      }
    },
    {
      "cell_type": "markdown",
      "source": [
        "## Definições"
      ],
      "metadata": {
        "id": "jtoVp7UveMeY"
      }
    },
    {
      "cell_type": "markdown",
      "source": [
        "### Definição de Cibernética"
      ],
      "metadata": {
        "id": "QlovZIORdTNt"
      }
    },
    {
      "cell_type": "markdown",
      "source": [
        "- Ciência de sistemas de comunicação e controle automáricos em máquinas e seres vivos\n",
        "- A palavra \"cibernética\" tem origem no grego significando governançacontrole\n",
        "- Usada primeiramente por platão, e em 1834 por Ampère. Atualmente \"Sistemas adaptativos complexos\" se aproxima do conceito"
      ],
      "metadata": {
        "id": "N3uYuliadVyV"
      }
    },
    {
      "cell_type": "markdown",
      "source": [
        "### Definição de Sistemas Inteligentes"
      ],
      "metadata": {
        "id": "Jmz66jbKdV6z"
      }
    },
    {
      "cell_type": "markdown",
      "source": [
        "- Sistemas inteligentes são máquinas (hardware _ software) que percebem e respondem/atuam no ambiente a sua volta"
      ],
      "metadata": {
        "id": "TtF-XJ9-dWE_"
      }
    },
    {
      "cell_type": "markdown",
      "source": [
        "### Definição de Aprendizagem de Máquina\n"
      ],
      "metadata": {
        "id": "2a5neMDcdWJ_"
      }
    },
    {
      "cell_type": "markdown",
      "source": [
        "- Aprendizagem de Máquina é programar computadores para uma tarefa T, para otimizar um critério de desempenho D, usando dados de exemplos ou experiência passada E"
      ],
      "metadata": {
        "id": "hKfobQ6MdWMq"
      }
    },
    {
      "cell_type": "markdown",
      "source": [
        "## Problema Computacional"
      ],
      "metadata": {
        "id": "65WMiOqleL9M"
      }
    },
    {
      "cell_type": "markdown",
      "source": [
        "#### Escreva um programa que filtre e-mails \"spam\" no servidor [Questão]"
      ],
      "metadata": {
        "id": "Ld8Rb3A7eQaq"
      }
    },
    {
      "cell_type": "markdown",
      "source": [
        "*R: Poderíamos resolver com algoritmos supervisionados clássicos, como regressão logística, árvore de decisão, random forests e assim vai indo. A partir do momento que temos um dataset de treinamento com atributos eficazes para a identificação de um e-mail como spam, podemos utilizar esse dataset para treinar os nossos modelos.*"
      ],
      "metadata": {
        "id": "8f07zCbUeU4X"
      }
    },
    {
      "cell_type": "markdown",
      "source": [
        "#### Para treinar o nosso modelo, devemos utilizar um dataset balanceado com relação ao nosso target"
      ],
      "metadata": {
        "id": "mC6736V_euSi"
      }
    },
    {
      "cell_type": "markdown",
      "source": [
        "#### Escreva um programa que aprende a jogar damas [Questão]"
      ],
      "metadata": {
        "id": "3zx_oN3De5er"
      }
    },
    {
      "cell_type": "markdown",
      "source": [
        "R: Prgorama que aprende a jogar damas T pode melhorar seu desempenho D, avalaiando o número de vitórias, através de experiência obtida em jogos passados"
      ],
      "metadata": {
        "id": "Ces4DFi9loh7"
      }
    },
    {
      "cell_type": "markdown",
      "source": [
        "## Inteligência Artificial e Aprendizagem de Máquinas"
      ],
      "metadata": {
        "id": "jIGelyK5l2CM"
      }
    },
    {
      "cell_type": "markdown",
      "source": [
        "- Aprendizagem de Máquinas é uma sub-área de Inteligência Artificial\n",
        "- O objetivo básico de IA é desenvolver máquinas/sistemas inteligentes"
      ],
      "metadata": {
        "id": "OoJ-1c1GoFbw"
      }
    },
    {
      "cell_type": "code",
      "source": [],
      "metadata": {
        "id": "Gj9Jmr-Xo0ye"
      },
      "execution_count": null,
      "outputs": []
    },
    {
      "cell_type": "markdown",
      "source": [
        "- 1) Escolher o tipo de experiência de treinamento a ser usada\n",
        "- 2) Escolher o tipo de conhecimento que será aprendido e como eleserá usado no desempenho (função alvo, movimentos, sequências, etc)\n",
        "- 3) Escolher a representação de conhecimento (numérica, categórica) da função alvo (exemplos, coleção d eregras, desconhecido?) --- Basicamente escolher qual é o tipo do target, se é numérico ou categórico\n",
        "- 4) Escolher um algoritmo de aproximação para a função alvo --- Escolher entre algoritmos como gradiente descendente, gradiente descendente estocástico e assim em diante"
      ],
      "metadata": {
        "id": "w6dRF7pvo2Ta"
      }
    },
    {
      "cell_type": "markdown",
      "source": [
        "## Tipos de Problemas em Aprendizagem de Máquinas"
      ],
      "metadata": {
        "id": "UsL32pdvqbl7"
      }
    },
    {
      "cell_type": "markdown",
      "source": [
        "- Supervisionada\n",
        "  - Você sabe sobre os agrupamentos\n",
        "- Não supervisionado\n",
        "  - Você não sabe sobre os agrupamentos\n",
        "- Semi-supervisionada\n",
        "  - Temos dados que possuímos conhecimento e dados que não possuímos conhecimento\n",
        "- Por reforço\n",
        "  - Dados não rotulados e o modelo precisa interagir com o meio e pode ser atribuída em sequências diferentes"
      ],
      "metadata": {
        "id": "LeypGPPtrx6Z"
      }
    },
    {
      "cell_type": "markdown",
      "source": [
        "### Componentes de toda aplicação de aprendizagem de máquinas"
      ],
      "metadata": {
        "id": "Tr7RqDTzu-e8"
      }
    },
    {
      "cell_type": "markdown",
      "source": [
        "- 1) Passo -- Construir/aprender/estimar a função de predição f()\n",
        "  - Como??\n",
        "  - Y=f(x)       X -> Vetores de dados"
      ],
      "metadata": {
        "id": "Q2n_C_36vrK7"
      }
    },
    {
      "cell_type": "markdown",
      "source": [
        "## Atividades"
      ],
      "metadata": {
        "id": "L_zwVBT1wSP6"
      }
    },
    {
      "cell_type": "markdown",
      "source": [
        "- Jordan, M. Artificial Intelligence - The revolution ashnt happened yet, harvard data science review, july 2019\n",
        "https://doi.org/10.1162/99608f92.f06c6e61\n",
        "Ler o primeiro capítulo"
      ],
      "metadata": {
        "id": "7CJSRQxhx5P6"
      }
    },
    {
      "cell_type": "markdown",
      "source": [
        "## Bibliografia"
      ],
      "metadata": {
        "id": "TQFadpzWx6HN"
      }
    },
    {
      "cell_type": "markdown",
      "source": [
        "- Bishop, C. Pattern Recognition and Machine Learning. Springer, 2006\n",
        "\n",
        "- Flach, P. Machine Learning: The art and science of algorithms that make sense of data. Cambridge University Press, 2012.\n",
        "\n",
        "- Mitchell, T. Machine Learning. McGraw Hill, 1997"
      ],
      "metadata": {
        "id": "59FDQ_WPv0oQ"
      }
    },
    {
      "cell_type": "code",
      "source": [],
      "metadata": {
        "id": "WRjGkCJMwG5i"
      },
      "execution_count": null,
      "outputs": []
    }
  ]
}