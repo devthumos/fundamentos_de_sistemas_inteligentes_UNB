{
  "nbformat": 4,
  "nbformat_minor": 0,
  "metadata": {
    "colab": {
      "provenance": []
    },
    "kernelspec": {
      "name": "python3",
      "display_name": "Python 3"
    },
    "language_info": {
      "name": "python"
    }
  },
  "cells": [
    {
      "cell_type": "markdown",
      "source": [
        "# Aula 01 - 25/10/2022\n",
        "### Tema: Introdução ao Curso"
      ],
      "metadata": {
        "id": "YMpZOLyXFFi9"
      }
    },
    {
      "cell_type": "markdown",
      "source": [
        "### Definição de Inteligência Artificial\n"
      ],
      "metadata": {
        "id": "1OQT4KeeFqUB"
      }
    },
    {
      "cell_type": "markdown",
      "source": [
        "- A partir do momento que não conseguimos diferenciar se quem realiza a atividade é humano ou não, temos ali uma inteligência artificial\n",
        "- A criatividade é imprevisível, diferente das máquinas que possuem uma previsibilidade, essa é a diferença de um ser humano e uma máquina\n",
        "- "
      ],
      "metadata": {
        "id": "ItVQfoNBKlKd"
      }
    }
  ]
}